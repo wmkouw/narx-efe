{
 "cells": [
  {
   "cell_type": "markdown",
   "metadata": {},
   "source": [
    "# Visualize sigma point approximation method"
   ]
  },
  {
   "cell_type": "code",
   "execution_count": 1,
   "metadata": {},
   "outputs": [],
   "source": [
    "using Distributions\n",
    "using LinearAlgebra\n",
    "using Plots"
   ]
  },
  {
   "cell_type": "markdown",
   "metadata": {},
   "source": [
    "## Sigma point method"
   ]
  },
  {
   "cell_type": "code",
   "execution_count": 2,
   "metadata": {},
   "outputs": [
    {
     "data": {
      "text/plain": [
       "2×2 Matrix{Float64}:\n",
       "  0.0511576   -0.00798913\n",
       " -0.00798913   0.00124764"
      ]
     },
     "metadata": {},
     "output_type": "display_data"
    }
   ],
   "source": [
    "Dy = 2\n",
    "Du = 2\n",
    "My = 1\n",
    "Mu = 1\n",
    "Dx = My*Dy + (Mu+1)*Du\n",
    "\n",
    "# Set parameters\n",
    "ν_k = 10.\n",
    "Ω_k = diagm(rand(Dy))\n",
    "Λ_k = diagm(rand(Dx))\n",
    "M_k = randn(Dx,Dy)\n",
    "\n",
    "# Set postpred 1 params\n",
    "η = 10\n",
    "μ = rand(Dy)\n",
    "tmp = randn(Dy)\n",
    "Σ = tmp*tmp'\n",
    "Σ = (Σ + Σ')/2\n",
    "\n",
    "# Tdist postpred function\n",
    "function Tdist(y) \n",
    "    x = [1., -1. y]\n",
    "    return det(1 + x'*inv(Λ_k)*x)*(1 + 1/(η+1)*())\n",
    "end\n",
    "\n",
    "# Sigma points\n",
    "\n",
    "\n",
    "# Weights\n",
    "\n",
    "\n",
    "# Approximate moments\n",
    "\n",
    "\n",
    "# Tdist for second postpred\n"
   ]
  },
  {
   "cell_type": "markdown",
   "metadata": {},
   "source": [
    "## Sampling "
   ]
  },
  {
   "cell_type": "markdown",
   "metadata": {},
   "source": []
  }
 ],
 "metadata": {
  "kernelspec": {
   "display_name": "Julia 1.11.2",
   "language": "julia",
   "name": "julia-1.11"
  },
  "language_info": {
   "file_extension": ".jl",
   "mimetype": "application/julia",
   "name": "julia",
   "version": "1.11.2"
  }
 },
 "nbformat": 4,
 "nbformat_minor": 2
}
